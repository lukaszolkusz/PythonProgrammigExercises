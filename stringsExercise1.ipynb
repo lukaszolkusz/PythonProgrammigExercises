{
 "cells": [
  {
   "cell_type": "markdown",
   "metadata": {},
   "source": [
    "# Strings Exercise 1"
   ]
  },
  {
   "cell_type": "code",
   "execution_count": 7,
   "metadata": {},
   "outputs": [
    {
     "name": "stdout",
     "output_type": "stream",
     "text": [
      "hehexd\n",
      "LMAOhehexdJohnboi\n",
      "This is LIDL level coding hehexd\n"
     ]
    }
   ],
   "source": [
    "#create a variable with a data type string\n",
    "\n",
    "myString = \"hehexd\" # \" \" means text data\n",
    "userName = \"Johnboi\"\n",
    "words = \"LMAO\"\n",
    "question = \"Why?\"\n",
    "age = \"342\"\n",
    "\n",
    "print(myString)\n",
    "print(words + myString + userName) # + CONCATENATES strings together\n",
    "print(\"This is LIDL level coding\", myString) # example of printing hardcode and strings - use , or +"
   ]
  },
  {
   "cell_type": "code",
   "execution_count": 11,
   "metadata": {},
   "outputs": [
    {
     "name": "stdout",
     "output_type": "stream",
     "text": [
      "bottom text 342\n"
     ]
    }
   ],
   "source": [
    "#convert an int into a string using a FUNCTION\n",
    "print(\"bottom text \" +str(age)) # inorder to CONCATENATE int into string use str(variable)"
   ]
  },
  {
   "cell_type": "code",
   "execution_count": 17,
   "metadata": {},
   "outputs": [
    {
     "name": "stdout",
     "output_type": "stream",
     "text": [
      "question? 2\n",
      "2\n",
      "age? 3\n",
      "3\n"
     ]
    }
   ],
   "source": [
    "myString = input(\"question? \")\n",
    "print(myString)\n",
    "age = int(input(\"age? \"))\n",
    "print(age)"
   ]
  }
 ],
 "metadata": {
  "kernelspec": {
   "display_name": "Python 3",
   "language": "python",
   "name": "python3"
  },
  "language_info": {
   "codemirror_mode": {
    "name": "ipython",
    "version": 3
   },
   "file_extension": ".py",
   "mimetype": "text/x-python",
   "name": "python",
   "nbconvert_exporter": "python",
   "pygments_lexer": "ipython3",
   "version": "3.5.2"
  }
 },
 "nbformat": 4,
 "nbformat_minor": 2
}
